{
  "nbformat": 4,
  "nbformat_minor": 0,
  "metadata": {
    "colab": {
      "provenance": [],
      "collapsed_sections": [],
      "authorship_tag": "ABX9TyMJhwZIaqGc6Zo3Aqu2cA+A",
      "include_colab_link": true
    },
    "kernelspec": {
      "name": "python3",
      "display_name": "Python 3"
    },
    "language_info": {
      "name": "python"
    }
  },
  "cells": [
    {
      "cell_type": "markdown",
      "metadata": {
        "id": "view-in-github",
        "colab_type": "text"
      },
      "source": [
        "<a href=\"https://colab.research.google.com/github/combate3/arquivos-dnc/blob/main/Din%C3%A2mica_1.ipynb\" target=\"_parent\"><img src=\"https://colab.research.google.com/assets/colab-badge.svg\" alt=\"Open In Colab\"/></a>"
      ]
    },
    {
      "cell_type": "markdown",
      "source": [
        "Nome: Pedro Henrique Barroso Santos da Silva\n",
        "RFID: 39844"
      ],
      "metadata": {
        "id": "fdnu99UxjWAi"
      }
    },
    {
      "cell_type": "code",
      "execution_count": 3,
      "metadata": {
        "colab": {
          "base_uri": "https://localhost:8080/"
        },
        "id": "729fnBKOjRrL",
        "outputId": "8033672e-db1c-485c-d3d1-5de5241de81a"
      },
      "outputs": [
        {
          "output_type": "execute_result",
          "data": {
            "text/plain": [
              "int"
            ]
          },
          "metadata": {},
          "execution_count": 3
        }
      ],
      "source": [
        "#Questão 1\n",
        "\n",
        "#1\n",
        "x = 5\n",
        "type(x)\n"
      ]
    },
    {
      "cell_type": "code",
      "source": [
        "#Questão 1\n",
        "\n",
        "#2\n",
        "x = 5.0\n",
        "type(x)"
      ],
      "metadata": {
        "colab": {
          "base_uri": "https://localhost:8080/"
        },
        "id": "-vTGVhfIkcXM",
        "outputId": "6d23af67-3865-40f5-e9fd-35aaa3ce278e"
      },
      "execution_count": 4,
      "outputs": [
        {
          "output_type": "execute_result",
          "data": {
            "text/plain": [
              "float"
            ]
          },
          "metadata": {},
          "execution_count": 4
        }
      ]
    },
    {
      "cell_type": "code",
      "source": [
        "#Questão 1\n",
        "\n",
        "#3\n",
        "x = 5.5\n",
        "type(x)"
      ],
      "metadata": {
        "colab": {
          "base_uri": "https://localhost:8080/"
        },
        "id": "J3zsphfkkofh",
        "outputId": "e9281019-6cab-46a6-d671-1235f008da59"
      },
      "execution_count": 5,
      "outputs": [
        {
          "output_type": "execute_result",
          "data": {
            "text/plain": [
              "float"
            ]
          },
          "metadata": {},
          "execution_count": 5
        }
      ]
    },
    {
      "cell_type": "code",
      "source": [
        "#Questão 1\n",
        "\n",
        "#4\n",
        "x = 'DNC'\n",
        "type(x)"
      ],
      "metadata": {
        "colab": {
          "base_uri": "https://localhost:8080/"
        },
        "id": "fZ1H4CE1kvEZ",
        "outputId": "e59bcede-9588-4295-c090-15eac6b1418e"
      },
      "execution_count": 7,
      "outputs": [
        {
          "output_type": "execute_result",
          "data": {
            "text/plain": [
              "str"
            ]
          },
          "metadata": {},
          "execution_count": 7
        }
      ]
    },
    {
      "cell_type": "code",
      "source": [
        "#Questão 1\n",
        "\n",
        "#5\n",
        "x = 1/2\n",
        "type(x)"
      ],
      "metadata": {
        "colab": {
          "base_uri": "https://localhost:8080/"
        },
        "id": "jbgw1892k2nL",
        "outputId": "eba8d039-7f73-4308-bb21-388367cae643"
      },
      "execution_count": 8,
      "outputs": [
        {
          "output_type": "execute_result",
          "data": {
            "text/plain": [
              "float"
            ]
          },
          "metadata": {},
          "execution_count": 8
        }
      ]
    },
    {
      "cell_type": "code",
      "source": [
        "#Questão 1\n",
        "\n",
        "#6\n",
        "x = 0.5*2\n",
        "type(x)"
      ],
      "metadata": {
        "colab": {
          "base_uri": "https://localhost:8080/"
        },
        "id": "eROg0SoLlA4B",
        "outputId": "7508fc66-16a4-43b3-de4a-17f7efbd28cc"
      },
      "execution_count": 9,
      "outputs": [
        {
          "output_type": "execute_result",
          "data": {
            "text/plain": [
              "float"
            ]
          },
          "metadata": {},
          "execution_count": 9
        }
      ]
    },
    {
      "cell_type": "code",
      "source": [
        "#Questão 1\n",
        "\n",
        "#7\n",
        "x = 2**4\n",
        "type(x)"
      ],
      "metadata": {
        "colab": {
          "base_uri": "https://localhost:8080/"
        },
        "id": "gAa8tuG8lLva",
        "outputId": "ba7d16b4-c4ca-47c4-8d0f-c83e0a4269bc"
      },
      "execution_count": 10,
      "outputs": [
        {
          "output_type": "execute_result",
          "data": {
            "text/plain": [
              "int"
            ]
          },
          "metadata": {},
          "execution_count": 10
        }
      ]
    },
    {
      "cell_type": "code",
      "source": [
        "#Questão 1\n",
        "\n",
        "#8\n",
        "x = 2+4\n",
        "type(x)"
      ],
      "metadata": {
        "colab": {
          "base_uri": "https://localhost:8080/"
        },
        "id": "fxeyCiVdlSK6",
        "outputId": "ee02891b-7e13-448f-d009-4b568313181e"
      },
      "execution_count": 11,
      "outputs": [
        {
          "output_type": "execute_result",
          "data": {
            "text/plain": [
              "int"
            ]
          },
          "metadata": {},
          "execution_count": 11
        }
      ]
    },
    {
      "cell_type": "code",
      "source": [
        "#Questão 1\n",
        "\n",
        "#9\n",
        "x = 1000000000\n",
        "type(x)"
      ],
      "metadata": {
        "colab": {
          "base_uri": "https://localhost:8080/"
        },
        "id": "nHDVB4xDlZ-D",
        "outputId": "4d27e528-e39d-4f72-87ed-8792c1fb8448"
      },
      "execution_count": 12,
      "outputs": [
        {
          "output_type": "execute_result",
          "data": {
            "text/plain": [
              "int"
            ]
          },
          "metadata": {},
          "execution_count": 12
        }
      ]
    },
    {
      "cell_type": "code",
      "source": [
        "#Questão 1\n",
        "\n",
        "#10\n",
        "\n",
        "x = int(input('Digite um número: '))\n",
        "print(x)\n",
        "type(x)"
      ],
      "metadata": {
        "colab": {
          "base_uri": "https://localhost:8080/"
        },
        "id": "6sGsKPu6lj2B",
        "outputId": "f7b21cec-7678-4951-879c-db757f822cce"
      },
      "execution_count": 16,
      "outputs": [
        {
          "output_type": "stream",
          "name": "stdout",
          "text": [
            "Digite um número: 8\n",
            "8\n"
          ]
        },
        {
          "output_type": "execute_result",
          "data": {
            "text/plain": [
              "int"
            ]
          },
          "metadata": {},
          "execution_count": 16
        }
      ]
    },
    {
      "cell_type": "code",
      "source": [
        "#Questão 1\n",
        "\n",
        "#11\n",
        "\n",
        "x = float(input('Digite um número: '))\n",
        "print(x)\n",
        "type(x)"
      ],
      "metadata": {
        "colab": {
          "base_uri": "https://localhost:8080/"
        },
        "id": "HZT89E-JlxeR",
        "outputId": "f183adc9-4db6-4a9f-d0ab-b5d1b3ea7648"
      },
      "execution_count": 15,
      "outputs": [
        {
          "output_type": "stream",
          "name": "stdout",
          "text": [
            "Digite um número: 10\n",
            "10.0\n"
          ]
        },
        {
          "output_type": "execute_result",
          "data": {
            "text/plain": [
              "float"
            ]
          },
          "metadata": {},
          "execution_count": 15
        }
      ]
    },
    {
      "cell_type": "code",
      "source": [
        "#Questão 1\n",
        "\n",
        "#12\n",
        "\n",
        "x = str(input('Digite uma palavra: '))\n",
        "print(x)\n",
        "type(x)\n",
        "\n"
      ],
      "metadata": {
        "colab": {
          "base_uri": "https://localhost:8080/"
        },
        "id": "eHgGK9komQrG",
        "outputId": "2a9e9d2d-358e-4694-b73e-2304ef176e1c"
      },
      "execution_count": 18,
      "outputs": [
        {
          "output_type": "stream",
          "name": "stdout",
          "text": [
            "Digite uma palavra: Pedro\n",
            "Pedro\n"
          ]
        },
        {
          "output_type": "execute_result",
          "data": {
            "text/plain": [
              "str"
            ]
          },
          "metadata": {},
          "execution_count": 18
        }
      ]
    },
    {
      "cell_type": "code",
      "source": [
        "#Questão 1\n",
        "\n",
        "#13\n",
        "\n",
        "x = input('Digite algo: ')\n",
        "print(x)\n",
        "type(x)"
      ],
      "metadata": {
        "colab": {
          "base_uri": "https://localhost:8080/"
        },
        "id": "2d-KHrFBmoB1",
        "outputId": "2bb16df6-bc2a-4050-e3d5-9300712b84d8"
      },
      "execution_count": 19,
      "outputs": [
        {
          "output_type": "stream",
          "name": "stdout",
          "text": [
            "Digite algo: 8\n",
            "8\n"
          ]
        },
        {
          "output_type": "execute_result",
          "data": {
            "text/plain": [
              "str"
            ]
          },
          "metadata": {},
          "execution_count": 19
        }
      ]
    },
    {
      "cell_type": "code",
      "source": [
        "#Questão 2\n",
        "\n",
        "print('-'*50)\n",
        "print(' '*23,'DNC')\n",
        "print('-'*50)\n"
      ],
      "metadata": {
        "colab": {
          "base_uri": "https://localhost:8080/"
        },
        "id": "jNTH_du9m40w",
        "outputId": "5c19abdd-0708-4bc2-cd83-79e61eaaab4b"
      },
      "execution_count": 21,
      "outputs": [
        {
          "output_type": "stream",
          "name": "stdout",
          "text": [
            "--------------------------------------------------\n",
            "                        DNC\n",
            "--------------------------------------------------\n"
          ]
        }
      ]
    },
    {
      "cell_type": "code",
      "source": [
        "#Questão 3\n",
        "salario_cientista_de_dados = 10000.00\n",
        "parcela_bmw = 2500.45\n",
        "parcela_apartamento = 3500.50\n",
        "veterinario_romeuzinho = 500.00\n",
        "luz = 100.80\n",
        "agua = 80.35\n",
        "condominio = 800.44\n",
        "gas = 150.65\n",
        "\n",
        "custo_geral = parcela_bmw + parcela_apartamento + veterinario_romeuzinho + luz + agua + condominio + gas\n",
        "poupanca = salario_cientista_de_dados - custo_geral\n",
        "\n",
        "print('*'*100)\n",
        "print(f'Seu salário de cientista de dados jr é de R$ {salario_cientista_de_dados} e seus gatos estão dispostos a seguir')\n",
        "print(f'Parcela BMW - R${parcela_bmw}')\n",
        "print(f'Parcela do apartamento - R${parcela_apartamento}')\n",
        "print(f'Veterinário do Romeuzinho - R${veterinario_romeuzinho}')\n",
        "print(f'Conta de Luz - R${luz}')\n",
        "print(f'Conta de Água - R${agua}')\n",
        "print(f'Conta de Condomínio - R${condominio}')\n",
        "print(f'Conta de gás {gas}')\n",
        "print('*'*100)\n",
        "print(f'O valor disponível para colocar na poupança é de: R${poupanca:.2f}')"
      ],
      "metadata": {
        "colab": {
          "base_uri": "https://localhost:8080/"
        },
        "id": "J6OR3xQPnS_t",
        "outputId": "6e544ac6-4d6d-4331-b2ed-aacf77a95709"
      },
      "execution_count": 26,
      "outputs": [
        {
          "output_type": "stream",
          "name": "stdout",
          "text": [
            "****************************************************************************************************\n",
            "Seu salário de cientista de dados jr é de R$ 10000.0 e seus gatos estão dispostos a seguir\n",
            "Parcela BMW - R$2500.45\n",
            "Parcela do apartamento - R$3500.5\n",
            "Veterinário do Romeuzinho - R$500.0\n",
            "Conta de Luz - R$100.8\n",
            "Conta de Água - R$80.35\n",
            "Conta de Condomínio - R$800.44\n",
            "Conta de gás 150.65\n",
            "****************************************************************************************************\n",
            "O valor disponível para colocar na poupança é de: R$2366.81\n"
          ]
        }
      ]
    },
    {
      "cell_type": "code",
      "source": [
        "#Questão 4\n",
        "\n",
        "formacao_em_dados = 20000.00\n",
        "formacao_em_projetos = 15000.00\n",
        "formacao_em_marketing = 13000.00\n",
        "formacao_em_produto = 18000.00\n",
        "formacao_em_tecnologia = 19000.00\n",
        "\n",
        "print(\"Digite um valor correspondente a um curso de nossas formações\\n\"\"1-Formação em dados\\n\"\"2-Formação em projetos\\n\"\"3-Formação em marketing\\n\"\"4-Formação em produto\\n\"\"5-Formação em tecnologia\")\n",
        "\n",
        "curso_escolhido = int(input('Digite o número do curso escolhido: '))\n",
        "  \n",
        "if curso_escolhido == 1 :\n",
        "    print(f'Você escolheu o curso Formação em Dados no valor de R${formacao_em_dados:.2f} e começará no próximo mês')\n",
        "elif curso_escolhido == 2:\n",
        "    print(f'Você escolheu o curso Formação em Projetos no valor de R${formacao_em_projetos:.2f} e começará no próximo mês')\n",
        "elif curso_escolhido == 3:\n",
        "    print(f'Você escolheu o curso Formação em Marketing no valor de R${formacao_em_marketing:.2f} e começará no próximo mês')\n",
        "elif curso_escolhido == 4:\n",
        "    print(f'Você escolheu o curso Formação em Produto no valor de R${formacao_em_produto:.2f} e começará no próximo mês')\n",
        "elif curso_escolhido == 5:\n",
        "    print(f'Você escolheu o curso Formação em Tecnologia no valor de R${formacao_em_tecnologia:.2f} e começará no próximo mês')\n",
        "else:   \n",
        "    print('Digite um valor correspondente a um curso de nossas formações')"
      ],
      "metadata": {
        "colab": {
          "base_uri": "https://localhost:8080/"
        },
        "id": "jgzaqybRqck7",
        "outputId": "b646bbf2-34c5-48d7-f724-34f3a6306d00"
      },
      "execution_count": 63,
      "outputs": [
        {
          "output_type": "stream",
          "name": "stdout",
          "text": [
            "Digite um valor correspondente a um curso de nossas formações\n",
            "1-Formação em dados\n",
            "2-Formação em projetos\n",
            "3-Formação em marketing\n",
            "4-Formação em produto\n",
            "5-Formação em tecnologia\n",
            "Digite o número do curso escolhido: 8\n",
            "Digite um valor correspondente a um curso de nossas formações\n"
          ]
        }
      ]
    },
    {
      "cell_type": "code",
      "source": [
        "#Questão 5\n",
        "\n",
        "formacao_em_dados = 20000.00\n",
        "formacao_em_projetos = 15000.00\n",
        "formacao_em_marketing = 13000.00\n",
        "formacao_em_produto = 18000.00\n",
        "formacao_em_tecnologia = 19000.00\n",
        "vendas_dados = int(input('Quantidade de vendas da Formação em Dados: '))\n",
        "vendas_projetos = int(input('Quantidade de vendas da Formação em Projetos: '))\n",
        "vendas_marketing = int(input('Quantidade de vendas da Formação em Marketing: '))\n",
        "vendas_produto = int(input('Quantidade de vendas da Formação em Produto: '))\n",
        "vendas_tecnologia = int(input('Quantidade de vendas da Formação em Tecnologia: '))\n",
        "\n",
        "total_vendas = (formacao_em_dados*vendas_dados) + (formacao_em_projetos*vendas_projetos) + (formacao_em_marketing*vendas_marketing) + (formacao_em_produto*vendas_produto) + (formacao_em_tecnologia*vendas_tecnologia)\n",
        "print(f'O total em vendas foi: R${total_vendas:.2f}')\n",
        "\n",
        "if total_vendas >= 2000000:\n",
        "  print('Parabéns!!! A DNC bateu a meta do mês')\n",
        "else:\n",
        "  print('Esse mês não batemos a meta, porém mês que vem vamos vir mais forte pra recuperar ')"
      ],
      "metadata": {
        "colab": {
          "base_uri": "https://localhost:8080/"
        },
        "id": "emQfoNipwtpr",
        "outputId": "3fc243bf-9eda-4a76-aee5-a09a99ee75af"
      },
      "execution_count": 69,
      "outputs": [
        {
          "output_type": "stream",
          "name": "stdout",
          "text": [
            "Quantidade de vendas da Formação em Dados: 10\n",
            "Quantidade de vendas da Formação em Projetos: 15\n",
            "Quantidade de vendas da Formação em Marketing: 20\n",
            "Quantidade de vendas da Formação em Produto: 10\n",
            "Quantidade de vendas da Formação em Tecnologia: 20\n",
            "O total em vendas foi: R$1245000.00\n",
            "Esse mês não batemos a meta, porém mês que vem vamos vir mais forte pra recuperar \n"
          ]
        }
      ]
    },
    {
      "cell_type": "code",
      "source": [
        "#Questão 6\n",
        "soma = 0\n",
        "\n",
        "for i in range(0,4):\n",
        "  num = i\n",
        "  soma += num+1\n",
        "\n",
        "print(soma)"
      ],
      "metadata": {
        "colab": {
          "base_uri": "https://localhost:8080/"
        },
        "id": "KRkSljdN20Uk",
        "outputId": "9933df3b-f4f3-49ae-a4c9-5649c4253312"
      },
      "execution_count": 76,
      "outputs": [
        {
          "output_type": "stream",
          "name": "stdout",
          "text": [
            "10\n"
          ]
        }
      ]
    },
    {
      "cell_type": "code",
      "source": [
        "#Questão 7\n",
        "troca_musica = 'p'\n",
        "\n",
        "\n",
        "while True:\n",
        "  comando_troca = input('Digite p para troca de música e outra letra para fechar: ')  \n",
        "  if comando_troca == 'p':\n",
        "    print('Próxima música')\n",
        "  else:\n",
        "    print('Fechando o app\\n''Até a próxima')\n",
        "    break"
      ],
      "metadata": {
        "colab": {
          "base_uri": "https://localhost:8080/"
        },
        "id": "ZFZFnBRa4M_-",
        "outputId": "e79d37e5-7e5e-400b-b164-4841d2634cc6"
      },
      "execution_count": 80,
      "outputs": [
        {
          "output_type": "stream",
          "name": "stdout",
          "text": [
            "Digite p para troca de música e outra letra para fechar: p\n",
            "Próxima música\n",
            "Digite p para troca de música e outra letra para fechar: p\n",
            "Próxima música\n",
            "Digite p para troca de música e outra letra para fechar: p\n",
            "Próxima música\n",
            "Digite p para troca de música e outra letra para fechar: n\n",
            "Fechando o app\n",
            "Até a próxima\n"
          ]
        }
      ]
    },
    {
      "cell_type": "code",
      "source": [
        "#Questão 8\n",
        "lista_de_nomes = []\n",
        "\n",
        "for i in range(0,3):\n",
        "  lista_de_nomes.append(input('Digite um nome: '))\n",
        "  print(f'Parabéns por toda sua ajuda no projeto, você está sendo essencial para o resultado que estamos atingindo, {lista_de_nomes[i]}')\n",
        "\n",
        "\n"
      ],
      "metadata": {
        "colab": {
          "base_uri": "https://localhost:8080/"
        },
        "id": "yxYDmXyC5-1Q",
        "outputId": "ad2bce09-560b-4b83-c89c-af637afe6068"
      },
      "execution_count": 82,
      "outputs": [
        {
          "output_type": "stream",
          "name": "stdout",
          "text": [
            "Digite um nome: Pedro\n",
            "Parabéns por toda sua ajuda no projeto, você está sendo essencial para o resultado que estamos atingindo, Pedro\n",
            "Digite um nome: Lucas\n",
            "Parabéns por toda sua ajuda no projeto, você está sendo essencial para o resultado que estamos atingindo, Lucas\n",
            "Digite um nome: Victor\n",
            "Parabéns por toda sua ajuda no projeto, você está sendo essencial para o resultado que estamos atingindo, Victor\n"
          ]
        }
      ]
    },
    {
      "cell_type": "code",
      "source": [
        "lista = []\n",
        "x = 1\n",
        "\n",
        "while x != 0:\n",
        "  x = int(input('Informe o valor da notas: '))\n",
        "  if x == 0:\n",
        "    break\n",
        "  lista.append(x)\n",
        "\n",
        "soma = sum(lista)\n",
        "print(\"A lista com os valores das notas está a seguir: \", lista)\n",
        "print('A soma das notas deu R$', soma)\n",
        "\n"
      ],
      "metadata": {
        "colab": {
          "base_uri": "https://localhost:8080/",
          "height": 576
        },
        "id": "OgBfiFe-7pim",
        "outputId": "0ff1fa72-bf54-4550-db26-b9d40b24ecf3"
      },
      "execution_count": 102,
      "outputs": [
        {
          "name": "stdout",
          "output_type": "stream",
          "text": [
            "Informe o valor da notas: 5\n",
            "Informe o valor da notas: 10\n",
            "Informe o valor da notas: 10\n",
            "Informe o valor da notas: 10\n",
            "Informe o valor da notas: 10\n",
            "Informe o valor da notas: 10\n",
            "Informe o valor da notas: 50\n",
            "Informe o valor da notas: 51\n",
            "Informe o valor da notas: 100\n"
          ]
        },
        {
          "output_type": "error",
          "ename": "KeyboardInterrupt",
          "evalue": "ignored",
          "traceback": [
            "\u001b[0;31m---------------------------------------------------------------------------\u001b[0m",
            "\u001b[0;31mKeyboardInterrupt\u001b[0m                         Traceback (most recent call last)",
            "\u001b[0;32m<ipython-input-102-778db91a949e>\u001b[0m in \u001b[0;36m<module>\u001b[0;34m\u001b[0m\n\u001b[1;32m      3\u001b[0m \u001b[0;34m\u001b[0m\u001b[0m\n\u001b[1;32m      4\u001b[0m \u001b[0;32mwhile\u001b[0m \u001b[0mx\u001b[0m \u001b[0;34m!=\u001b[0m \u001b[0;36m0\u001b[0m\u001b[0;34m:\u001b[0m\u001b[0;34m\u001b[0m\u001b[0;34m\u001b[0m\u001b[0m\n\u001b[0;32m----> 5\u001b[0;31m   \u001b[0mx\u001b[0m \u001b[0;34m=\u001b[0m \u001b[0mint\u001b[0m\u001b[0;34m(\u001b[0m\u001b[0minput\u001b[0m\u001b[0;34m(\u001b[0m\u001b[0;34m'Informe o valor da notas: '\u001b[0m\u001b[0;34m)\u001b[0m\u001b[0;34m)\u001b[0m\u001b[0;34m\u001b[0m\u001b[0;34m\u001b[0m\u001b[0m\n\u001b[0m\u001b[1;32m      6\u001b[0m   \u001b[0;32mif\u001b[0m \u001b[0mx\u001b[0m \u001b[0;34m==\u001b[0m \u001b[0;36m0\u001b[0m\u001b[0;34m:\u001b[0m\u001b[0;34m\u001b[0m\u001b[0;34m\u001b[0m\u001b[0m\n\u001b[1;32m      7\u001b[0m     \u001b[0;32mbreak\u001b[0m\u001b[0;34m\u001b[0m\u001b[0;34m\u001b[0m\u001b[0m\n",
            "\u001b[0;32m/usr/local/lib/python3.7/dist-packages/ipykernel/kernelbase.py\u001b[0m in \u001b[0;36mraw_input\u001b[0;34m(self, prompt)\u001b[0m\n\u001b[1;32m    861\u001b[0m             \u001b[0mself\u001b[0m\u001b[0;34m.\u001b[0m\u001b[0m_parent_ident\u001b[0m\u001b[0;34m,\u001b[0m\u001b[0;34m\u001b[0m\u001b[0;34m\u001b[0m\u001b[0m\n\u001b[1;32m    862\u001b[0m             \u001b[0mself\u001b[0m\u001b[0;34m.\u001b[0m\u001b[0m_parent_header\u001b[0m\u001b[0;34m,\u001b[0m\u001b[0;34m\u001b[0m\u001b[0;34m\u001b[0m\u001b[0m\n\u001b[0;32m--> 863\u001b[0;31m             \u001b[0mpassword\u001b[0m\u001b[0;34m=\u001b[0m\u001b[0;32mFalse\u001b[0m\u001b[0;34m,\u001b[0m\u001b[0;34m\u001b[0m\u001b[0;34m\u001b[0m\u001b[0m\n\u001b[0m\u001b[1;32m    864\u001b[0m         )\n\u001b[1;32m    865\u001b[0m \u001b[0;34m\u001b[0m\u001b[0m\n",
            "\u001b[0;32m/usr/local/lib/python3.7/dist-packages/ipykernel/kernelbase.py\u001b[0m in \u001b[0;36m_input_request\u001b[0;34m(self, prompt, ident, parent, password)\u001b[0m\n\u001b[1;32m    902\u001b[0m             \u001b[0;32mexcept\u001b[0m \u001b[0mKeyboardInterrupt\u001b[0m\u001b[0;34m:\u001b[0m\u001b[0;34m\u001b[0m\u001b[0;34m\u001b[0m\u001b[0m\n\u001b[1;32m    903\u001b[0m                 \u001b[0;31m# re-raise KeyboardInterrupt, to truncate traceback\u001b[0m\u001b[0;34m\u001b[0m\u001b[0;34m\u001b[0m\u001b[0;34m\u001b[0m\u001b[0m\n\u001b[0;32m--> 904\u001b[0;31m                 \u001b[0;32mraise\u001b[0m \u001b[0mKeyboardInterrupt\u001b[0m\u001b[0;34m(\u001b[0m\u001b[0;34m\"Interrupted by user\"\u001b[0m\u001b[0;34m)\u001b[0m \u001b[0;32mfrom\u001b[0m \u001b[0;32mNone\u001b[0m\u001b[0;34m\u001b[0m\u001b[0;34m\u001b[0m\u001b[0m\n\u001b[0m\u001b[1;32m    905\u001b[0m             \u001b[0;32mexcept\u001b[0m \u001b[0mException\u001b[0m \u001b[0;32mas\u001b[0m \u001b[0me\u001b[0m\u001b[0;34m:\u001b[0m\u001b[0;34m\u001b[0m\u001b[0;34m\u001b[0m\u001b[0m\n\u001b[1;32m    906\u001b[0m                 \u001b[0mself\u001b[0m\u001b[0;34m.\u001b[0m\u001b[0mlog\u001b[0m\u001b[0;34m.\u001b[0m\u001b[0mwarning\u001b[0m\u001b[0;34m(\u001b[0m\u001b[0;34m\"Invalid Message:\"\u001b[0m\u001b[0;34m,\u001b[0m \u001b[0mexc_info\u001b[0m\u001b[0;34m=\u001b[0m\u001b[0;32mTrue\u001b[0m\u001b[0;34m)\u001b[0m\u001b[0;34m\u001b[0m\u001b[0;34m\u001b[0m\u001b[0m\n",
            "\u001b[0;31mKeyboardInterrupt\u001b[0m: Interrupted by user"
          ]
        }
      ]
    },
    {
      "cell_type": "code",
      "source": [
        "#Questão 10\n",
        "\n",
        "grupo_projeto = [{'Nome': 'Alan', 'RID': 12345, 'Idade': 25,'Cidade': 'São José', 'Funcao': 'PO'},\n",
        "{'Nome': 'Erick', 'RID': 54321, 'Idade': 24,'Cidade': 'São José', 'Funcao': 'Scrum Master'},\n",
        "{'Nome': 'Simone', 'RID': 54123, 'Idade': 23,'Cidade': 'São José', 'Funcao': 'Dona de tudo'}]\n",
        "\n",
        "for p in grupo_projeto:\n",
        "    for k, v in p.items():\n",
        "        print(f'Key: {k}, Value: {v}')\n",
        "        print(\"-\"*40)"
      ],
      "metadata": {
        "colab": {
          "base_uri": "https://localhost:8080/"
        },
        "id": "4rg6fKHKAgTS",
        "outputId": "6164a2f3-4533-457f-986a-b06b4bf6a0a8"
      },
      "execution_count": 104,
      "outputs": [
        {
          "output_type": "stream",
          "name": "stdout",
          "text": [
            "Key: Nome, Value: Alan\n",
            "----------------------------------------\n",
            "Key: RID, Value: 12345\n",
            "----------------------------------------\n",
            "Key: Idade, Value: 25\n",
            "----------------------------------------\n",
            "Key: Cidade, Value: São José\n",
            "----------------------------------------\n",
            "Key: Funcao, Value: PO\n",
            "----------------------------------------\n",
            "Key: Nome, Value: Erick\n",
            "----------------------------------------\n",
            "Key: RID, Value: 54321\n",
            "----------------------------------------\n",
            "Key: Idade, Value: 24\n",
            "----------------------------------------\n",
            "Key: Cidade, Value: São José\n",
            "----------------------------------------\n",
            "Key: Funcao, Value: Scrum Master\n",
            "----------------------------------------\n",
            "Key: Nome, Value: Simone\n",
            "----------------------------------------\n",
            "Key: RID, Value: 54123\n",
            "----------------------------------------\n",
            "Key: Idade, Value: 23\n",
            "----------------------------------------\n",
            "Key: Cidade, Value: São José\n",
            "----------------------------------------\n",
            "Key: Funcao, Value: Dona de tudo\n",
            "----------------------------------------\n"
          ]
        }
      ]
    },
    {
      "cell_type": "code",
      "source": [
        "dicio = {}\n",
        "lista = []\n",
        "for u in range(0,5):\n",
        "  dicio['Nome'] = input('Digite o nome da pessoa: ')\n",
        "  dicio['RID'] = int(input('Digite o RID dessa pessoas: '))\n",
        "  dicio['Idade'] = int(input('Digite a idade dessa pessoa: '))\n",
        "  dicio['Cidade'] = input('Digite a cidade dessa pessoa: ')\n",
        "  dicio['Cargo Projeto'] = input('Digite 3o cargo no time de projetos: ')\n",
        "  lista.append(dicio.copy())\n",
        "print(lista)\n",
        "print(dicio) \n",
        "\n",
        "for p in lista:\n",
        "    for k, v in p.items():\n",
        "        print(f'Key: {k}, Value: {v}')\n",
        "        print(\"-\"*40)"
      ],
      "metadata": {
        "id": "97zsm_cWPdn9"
      },
      "execution_count": null,
      "outputs": []
    },
    {
      "cell_type": "code",
      "source": [
        "#Questão 11\n",
        "\n",
        "def soma_notas(l):\n",
        "  total = 0\n",
        "  for val in l:\n",
        "    total = total + val\n",
        "  return total\n",
        "\n",
        "lista = []\n",
        "x = 1\n",
        "\n",
        "while x != 0:\n",
        "  x = int(input('Informe o valor da notas: '))\n",
        "  if x == 0:\n",
        "    break\n",
        "  lista.append(x)\n",
        "\n",
        "print(\"A soma total é :\", soma_notas(lista))"
      ],
      "metadata": {
        "id": "THpbqGrDQqpS"
      },
      "execution_count": null,
      "outputs": []
    }
  ]
}